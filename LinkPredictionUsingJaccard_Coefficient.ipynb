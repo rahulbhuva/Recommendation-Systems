{
  "nbformat": 4,
  "nbformat_minor": 0,
  "metadata": {
    "colab": {
      "provenance": []
    },
    "kernelspec": {
      "name": "python3",
      "display_name": "Python 3"
    },
    "language_info": {
      "name": "python"
    }
  },
  "cells": [
    {
      "cell_type": "code",
      "metadata": {
        "colab": {
          "base_uri": "https://localhost:8080/"
        },
        "id": "IwCoFh0xFjS9",
        "outputId": "bba49378-f234-4132-85a1-e6d25ea4f4d4"
      },
      "source": [
        "import networkx as nx\n",
        "  \n",
        "G = nx.Graph()\n",
        "G.add_edges_from([(1, 2), (1, 3), (1, 4), (3, 4), (4, 5)])\n",
        "\n",
        "'''\n",
        "Compute the jaccard_coefficient of all node pairs.\n",
        "'''\n",
        "preds = nx.jaccard_coefficient(G)\n",
        "for u, v, p in preds:\n",
        "    print(f\"({u}, {v}) -> {p}\")"
      ],
      "execution_count": null,
      "outputs": [
        {
          "output_type": "stream",
          "name": "stdout",
          "text": [
            "(1, 5) -> 0.3333333333333333\n",
            "(2, 3) -> 0.5\n",
            "(2, 4) -> 0.3333333333333333\n",
            "(2, 5) -> 0.0\n",
            "(3, 5) -> 0.5\n"
          ]
        }
      ]
    },
    {
      "cell_type": "code",
      "metadata": {
        "colab": {
          "base_uri": "https://localhost:8080/"
        },
        "id": "rTHnWOM3UXsC",
        "outputId": "34a5f2b2-e5a5-4cbb-df62-f16c7ba34b72"
      },
      "source": [
        "import networkx as nx\n",
        "  \n",
        "G = nx.Graph()\n",
        "G.add_edges_from([('F', 'D'), ('D', 'A'), ('A', 'B'), ('B', 'C'), ('C', 'G'), ('C','E')])\n",
        "\n",
        "'''\n",
        "Compute the jaccard_coefficient of all node pairs.\n",
        "'''\n",
        "preds = nx.jaccard_coefficient(G)\n",
        "for u, v, p in preds:\n",
        "    print(f\"({u}, {v}) -> {p}\")"
      ],
      "execution_count": null,
      "outputs": [
        {
          "output_type": "stream",
          "name": "stdout",
          "text": [
            "(B, D) -> 0.3333333333333333\n",
            "(B, E) -> 0.5\n",
            "(B, G) -> 0.5\n",
            "(B, F) -> 0.0\n",
            "(A, G) -> 0.0\n",
            "(A, E) -> 0.0\n",
            "(A, F) -> 0.5\n",
            "(A, C) -> 0.25\n",
            "(F, G) -> 0.0\n",
            "(F, C) -> 0.0\n",
            "(F, E) -> 0.0\n",
            "(E, D) -> 0.0\n",
            "(E, G) -> 1.0\n",
            "(D, C) -> 0.0\n",
            "(D, G) -> 0.0\n"
          ]
        }
      ]
    },
    {
      "cell_type": "code",
      "metadata": {
        "colab": {
          "base_uri": "https://localhost:8080/"
        },
        "id": "qisvtBZ2YJRA",
        "outputId": "50db31a6-8c47-4ce2-bd03-9dad8305ece6"
      },
      "source": [
        "import networkx as nx\n",
        "  \n",
        "G = nx.Graph()\n",
        "G.add_edges_from([(1, 3), (1, 4), (1, 7), (2, 4), (2, 5), (2,7), (3,4), (4,5), (4,6), (5,6), (5,8), (6,8)])\n",
        "'''\n",
        "Compute the jaccard_coefficient of all node pairs.\n",
        "'''\n",
        "preds = nx.jaccard_coefficient(G)\n",
        "for u, v, p in preds:\n",
        "    print(f\"({u}, {v}) -> {p}\")"
      ],
      "execution_count": null,
      "outputs": [
        {
          "output_type": "stream",
          "name": "stdout",
          "text": [
            "(1, 8) -> 0.0\n",
            "(1, 2) -> 0.5\n",
            "(1, 5) -> 0.16666666666666666\n",
            "(1, 6) -> 0.2\n",
            "(2, 8) -> 0.25\n",
            "(2, 3) -> 0.25\n",
            "(2, 6) -> 0.5\n",
            "(3, 8) -> 0.0\n",
            "(3, 5) -> 0.2\n",
            "(3, 6) -> 0.25\n",
            "(3, 7) -> 0.3333333333333333\n",
            "(4, 8) -> 0.4\n",
            "(4, 7) -> 0.4\n",
            "(5, 7) -> 0.2\n",
            "(6, 7) -> 0.0\n",
            "(7, 8) -> 0.0\n"
          ]
        }
      ]
    }
  ]
}