{
  "nbformat": 4,
  "nbformat_minor": 0,
  "metadata": {
    "colab": {
      "provenance": []
    },
    "kernelspec": {
      "name": "python3",
      "display_name": "Python 3"
    },
    "language_info": {
      "name": "python"
    }
  },
  "cells": [
    {
      "cell_type": "code",
      "metadata": {
        "colab": {
          "base_uri": "https://localhost:8080/"
        },
        "id": "IwCoFh0xFjS9",
        "outputId": "182a8403-0d4f-4980-fd74-de046c7c8bd5"
      },
      "source": [
        "import networkx as nx\n",
        "  \n",
        "G = nx.Graph()\n",
        "G.add_edges_from([(1, 2), (1, 3), (1, 4), (3, 4), (4, 5)])\n",
        "\n",
        "'''\n",
        "Compute the preferential attachment score of all node pairs.\n",
        "'''\n",
        "preds = nx.preferential_attachment(G)\n",
        "for u, v, p in preds:\n",
        "    print(f\"({u}, {v}) -> {p}\")"
      ],
      "execution_count": null,
      "outputs": [
        {
          "output_type": "stream",
          "name": "stdout",
          "text": [
            "(1, 5) -> 3\n",
            "(2, 3) -> 2\n",
            "(2, 4) -> 3\n",
            "(2, 5) -> 1\n",
            "(3, 5) -> 2\n"
          ]
        }
      ]
    },
    {
      "cell_type": "code",
      "metadata": {
        "colab": {
          "base_uri": "https://localhost:8080/"
        },
        "id": "rTHnWOM3UXsC",
        "outputId": "17fbc70d-74d2-4a04-e476-7886874ed92d"
      },
      "source": [
        "import networkx as nx\n",
        "  \n",
        "G = nx.Graph()\n",
        "G.add_edges_from([('F', 'D'), ('D', 'A'), ('A', 'B'), ('B', 'C'), ('C', 'G'), ('C','E')])\n",
        "\n",
        "'''\n",
        "Compute the preferential attachment score of all node pairs.\n",
        "'''\n",
        "preds = nx.preferential_attachment(G)\n",
        "for u, v, p in preds:\n",
        "    print(f\"({u}, {v}) -> {p}\")"
      ],
      "execution_count": null,
      "outputs": [
        {
          "output_type": "stream",
          "name": "stdout",
          "text": [
            "(D, E) -> 2\n",
            "(D, G) -> 2\n",
            "(D, C) -> 6\n",
            "(D, B) -> 4\n",
            "(A, E) -> 2\n",
            "(A, G) -> 2\n",
            "(A, F) -> 2\n",
            "(A, C) -> 6\n",
            "(E, G) -> 1\n",
            "(E, F) -> 1\n",
            "(E, B) -> 2\n",
            "(F, G) -> 1\n",
            "(F, C) -> 3\n",
            "(F, B) -> 2\n",
            "(G, B) -> 2\n"
          ]
        }
      ]
    },
    {
      "cell_type": "code",
      "metadata": {
        "colab": {
          "base_uri": "https://localhost:8080/"
        },
        "id": "qisvtBZ2YJRA",
        "outputId": "f79af291-0dee-4cf9-82f2-caab1e8110fc"
      },
      "source": [
        "import networkx as nx\n",
        "  \n",
        "G = nx.Graph()\n",
        "G.add_edges_from([(1, 3), (1, 4), (1, 7), (2, 4), (2, 5), (2,7), (3,4), (4,5), (4,6), (5,6), (5,8), (6,8)])\n",
        "'''\n",
        "Compute the preferential attachment score of all node pairs.\n",
        "'''\n",
        "preds = nx.preferential_attachment(G)\n",
        "for u, v, p in preds:\n",
        "    print(f\"({u}, {v}) -> {p}\")"
      ],
      "execution_count": null,
      "outputs": [
        {
          "output_type": "stream",
          "name": "stdout",
          "text": [
            "(1, 8) -> 6\n",
            "(1, 2) -> 9\n",
            "(1, 5) -> 12\n",
            "(1, 6) -> 9\n",
            "(2, 8) -> 6\n",
            "(2, 3) -> 6\n",
            "(2, 6) -> 9\n",
            "(3, 8) -> 4\n",
            "(3, 5) -> 8\n",
            "(3, 6) -> 6\n",
            "(3, 7) -> 4\n",
            "(4, 8) -> 10\n",
            "(4, 7) -> 10\n",
            "(5, 7) -> 8\n",
            "(6, 7) -> 6\n",
            "(7, 8) -> 4\n"
          ]
        }
      ]
    }
  ]
}